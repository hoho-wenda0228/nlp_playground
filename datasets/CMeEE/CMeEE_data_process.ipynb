{
 "cells": [
  {
   "cell_type": "code",
   "execution_count": 1,
   "metadata": {
    "collapsed": true
   },
   "outputs": [],
   "source": [
    "import pandas as pd"
   ]
  },
  {
   "cell_type": "code",
   "execution_count": 56,
   "outputs": [],
   "source": [
    "data_df = pd.read_json(\"CMeEE_train.json\")"
   ],
   "metadata": {
    "collapsed": false,
    "pycharm": {
     "name": "#%%\n"
    }
   }
  },
  {
   "cell_type": "code",
   "execution_count": 68,
   "outputs": [],
   "source": [
    "data_df = pd.read_json(\"CMeEE_dev.json\")"
   ],
   "metadata": {
    "collapsed": false,
    "pycharm": {
     "name": "#%%\n"
    }
   }
  },
  {
   "cell_type": "code",
   "execution_count": 69,
   "outputs": [],
   "source": [
    "def _split_long_sent(query_data: list, max_seq_len=128, ratio_slide=1):\n",
    "    \"\"\"\n",
    "    This function is for split the sentence which length over 128\n",
    "    :param query_data: list of string\n",
    "    :return: processed_query_data: list of string, length of each string smaller than 128\n",
    "             concate_data_dict: map of raw text to splitted data\n",
    "    \"\"\"\n",
    "    processed_query_data = []\n",
    "    processed_seq_idx = []\n",
    "\n",
    "    query_len = len(query_data)\n",
    "    concate_data_dict = dict(zip(range(query_len), [[] for _ in range(query_len)]))\n",
    "\n",
    "    for idx_sent, sent in enumerate(query_data):\n",
    "        sent_len = len(str(sent))\n",
    "        if sent_len > max_seq_len:  # parse the sentence if length larger than max len\n",
    "            split_pos = 0\n",
    "            while sent_len - split_pos > max_seq_len:  # if the rest part shorter than max seq_len, break\n",
    "                is_split = False  # flag, if sentence does not contain any split symbol will be directly appended\n",
    "                cur_head = split_pos + max_seq_len - 1\n",
    "\n",
    "                alter_split_pos = None\n",
    "\n",
    "                for idx, char in enumerate(sent[cur_head:split_pos:-1]):\n",
    "                    if char in [\",\", \".\", \";\", \"，\", \"。\", \"；\"]:\n",
    "                        processed_query_data.append(sent[split_pos:cur_head - idx + 1])\n",
    "                        processed_seq_idx.append([split_pos, cur_head - idx])\n",
    "\n",
    "                        split_pos += max_seq_len - idx\n",
    "                        concate_data_dict[idx_sent].append(len(processed_query_data) - 1)\n",
    "                        is_split = True\n",
    "                        break\n",
    "\n",
    "                    if (not alter_split_pos) and char in [\")\",\"）\"]:\n",
    "                        alter_split_pos = idx\n",
    "\n",
    "                if not is_split:  # full sent added into list\n",
    "\n",
    "                    if alter_split_pos is not None:\n",
    "                        processed_query_data.append(sent[split_pos:cur_head - alter_split_pos + 1])\n",
    "                        processed_seq_idx.append([split_pos, cur_head - alter_split_pos])\n",
    "\n",
    "                        split_pos += max_seq_len - alter_split_pos\n",
    "                        concate_data_dict[idx_sent].append(len(processed_query_data) - 1)\n",
    "                    else:\n",
    "                        print(query_data)\n",
    "                        processed_query_data.append(sent[split_pos:split_pos + max_seq_len])\n",
    "                        processed_seq_idx.append([split_pos, split_pos + max_seq_len - 1])\n",
    "\n",
    "                        concate_data_dict[idx_sent].append(len(processed_query_data) - 1)\n",
    "                        split_pos += max_seq_len\n",
    "\n",
    "                slide_pos = int(split_pos - (1 - ratio_slide) * len(processed_query_data[-1]))\n",
    "                for idx, char in enumerate(sent[slide_pos:split_pos]):\n",
    "                    if char in [\",\", \".\", \";\", \"，\", \"。\", \"；\",\")\",\"）\"]:\n",
    "                        split_pos = idx + slide_pos + 1\n",
    "                        break\n",
    "\n",
    "            processed_query_data.append(sent[split_pos:])\n",
    "            processed_seq_idx.append([split_pos, sent_len - 1])\n",
    "\n",
    "        else:\n",
    "            processed_query_data.append(sent)\n",
    "            processed_seq_idx.append([0, sent_len - 1])\n",
    "\n",
    "        concate_data_dict[idx_sent].append(len(processed_query_data) - 1)  # record the last span or short sentence\n",
    "\n",
    "    return processed_query_data, concate_data_dict, processed_seq_idx"
   ],
   "metadata": {
    "collapsed": false,
    "pycharm": {
     "name": "#%%\n"
    }
   }
  },
  {
   "cell_type": "code",
   "execution_count": 70,
   "outputs": [
    {
     "name": "stdout",
     "output_type": "stream",
     "text": [
      "['参考文献1.李正，王慧贞，吉士俊.先天畸形学.北京：人民卫生出版社，20002.王忠诚.神经外科学.武汉：湖北科学技术出版社，19983.李世绰，程学铭，王文志，等.神经系统疾病流行病学.北京：人民卫生出版社，20004.肖坤则，张芝燕，高健，等.中国神经管缺陷的流行病学.中华医学杂志，1989，69（4）：189-1895.陈晓玲，戴晓瑛，刘建涛，等.叶酸与神经管畸形.河南预防医学杂志，1999，10（5）：326-3266.BarberRC，LammerEJ，ShawGM，etal.Theroleoffolatetransportandmetabolisminneuraltubedefectrisk.MolGenetMetab，1999，66（1）：1-17.AntonyAC，HansenDK.Hypothesis：folate-responsiveneuraltubedefectsandneurocristopathies.Teratology，2000，62（1）：42-428.McCombJG.Spinalandcranialneuraltubedefects.SeminPediatrNeurol，1997，4（3）：156-1569.CsabayL，SzaboI，PappC，etal.Centralnervoussystemanomalies.AnnNYAcadSci，1998，847：21-4510.CzeizelAE.Primarypreventionofneural-tubedefectsandsomeothermajorcongenitalabnormalities：recommendationsfortheappropriateuseoffolicacidduringpregnancy.PaediatrDrugs，2000，2（6）：437-44911.EskesTK.Openorclosed？']\n",
      "['参考文献1.沈晓明.临床儿科学.北京：人民卫生出版社，2005年：225-2252.岳少杰.新生儿细菌性脑膜炎诊断中的几个问题.中国实用儿科杂志，2011，26（1）：11-113.余佳.化脓性脑膜炎的临床研究进展.儿科药学杂志，2006，12（3）：61-634.王艺，王传清，王晓红.细菌性脑膜炎266例病原学与耐药性分析.实用儿科临床杂志，2006（06）：355-3555.ChaudhuriA，P.M.Martin，P.G.E.Kennedy，etal.EFNSguidelineonthemanagementofcommunity-acquiredbacterialmeningitis：reportofEFNSTaskForceonacutebacterialmeningitisinolderchildrenandadults.EuropeanJournalofNeurology，2008，15：649-6596.ChaudhuriA.Adjuvantdexamethasoneuseinacutebacterialmeningitis.LancetNeurology，2004，3：54-617.TunkelAIR，HartmanBJ，KaplanSL，etal.PracticeguidelinesfortheManagementofBacterialMeningitis.ClinicalInfectiousDiseases，2004，39：1267-1267']\n",
      "['参考文献1.许春娣，奚容平，陈舜年，等.幽门螺杆菌感染的患儿人类白细胞抗原DQA1的免疫遗传学分析.中华儿科杂志，2000，38：746-7462.许春娣，陈舜年，徐家裕，等.儿童幽门螺杆菌感染的流行病学研究.中华儿科杂志，1999，37：318-3183.许春娣，周建元，薛英，等.无症状儿童人群中幽门螺杆菌感染的血清流行病学.中华儿科杂志，1999，37：412-4144.许春娣，苏林，陈舜年，等.幽门螺杆菌感染与小儿胃十二指肠疾病的关系.上海医学，1999，22：466-4685.许春娣，季月华，陈舜年，等.胃幽门螺杆菌感染患儿细胞毒素相关基因A和细胞空泡毒素A与十二指肠疾病.中华儿科杂志，1999，37：552-5526.中华儿科杂志编辑委员会.中华医学会儿科学会感染消化组.小儿慢性胃炎.消化性溃疡诊断治疗推荐方案.中华儿科杂志，2000，38：201-2017.BehrensR，LangT，KellerKM，etal.DualversustripletherapyofHelicobacterpyloriinfection：resultsofamulticentretrial.ArchDisChild，1999，81：688.Ellc，SchoernerC，SolbachW，etal.TheAMORstudy：arandomizeed，doubleblindedtrialofomeprazoleversusranitidinetogetherwithamoxycillinandmetronidazoleforeradicationofHelicobacterpylori.EurJGastroentrolHepatol，2001，13：685-6919.LamSK，TalleyNJ.Reportofthe1997AsiaPacIFicConsensusConferenceonthemanagementofHelicobacterpyloriinfection.JGastroenterolHepatol.1998，13：110.MoshkowitzM，ReIFS，BrillS，etal.Oneweektripletherapywithomeprazole，clarithromycin，andnitroimidazoleforHelicobacterpyloriinfectioninchildrenandadolescents.Pediatrics，1998，102：e1411.PanJJ，VanderHulstRWM，FellerM，etal.EquallyhighprevalenceofinfectionwithCagApositiveHelicobacterpyloriinChinesepatientwithpepticulcerdiseaseandthosewithchronicgastritisassociateddyspepsia.JClinMicrobiol，1997，35：1344-134412.ShashidharH，PetersJ，LinCH，etal.AprospectivetrialofLansoprazoletripletherapyforpediatricHelicobacterpyloriinfection.JPediatricGastroenterolNutr，2000，30：27613.ShamalyH，BerkowitzD，RosenthalE，etal.EfficacyofbismuthbasedtripletherapyinchildrenwithabdominalpainandHelicobacterpylorigastritis.JPediatrGastroenterolNutr，2000，30：19814.TheEuropeanHelicobacterpyloriStudyGroup.CurrentEuropeanconceptsinthemanagementofHelicobacterpyloriinfection.TheMaastrichtConsensusReportGut，1997，41：815.VandenplasY，bleckerU.Helicobacterpyloriinfectioninchildren，ActaPediatr，1998，87：1105-110516.WarburtonVJ，EverettS，MapastoneNP，etal.ClinicalandhistologicalassociationsofcagAandvacAgenotypesinHelicobacterpylorigastritis，JClinPathol，1998，51：55-6117.中华医学会消化病学会幽门螺杆菌科研协作组.第三次全国幽门螺杆菌感染若干问题共识报告（2007.庐山）.现代消化及介入诊所，2008，13（1）：73-73']\n"
     ]
    }
   ],
   "source": [
    "new_data=list()\n",
    "for item in data_df.itertuples():\n",
    "    region_dict = dict()\n",
    "    entity_list = list()\n",
    "\n",
    "    for entity in item.entities:\n",
    "        start = entity[\"start_idx\"]\n",
    "        end = entity[\"end_idx\"]\n",
    "        region_dict[(start, end)] = {\"type\": entity[\"type\"], \"entity\": entity[\"entity\"]}\n",
    "\n",
    "    seq_list, seq_dict, seq_idx_list = _split_long_sent([item.text], ratio_slide=0.5)\n",
    "\n",
    "\n",
    "    for seq, seq_idx in zip(seq_list, seq_idx_list):\n",
    "        seq_len = len(seq)\n",
    "        sub_seq_region_list = list()\n",
    "        for (start, end), entity in region_dict.items():\n",
    "            if end <= seq_idx[1] and start >= seq_idx[0]:\n",
    "                sub_seq_entity = {\"start_idx\": start - seq_idx[0], \"end_idx\": end - seq_idx[0], \"type\": entity[\"type\"],\n",
    "                                  \"entity\": entity[\"entity\"]}\n",
    "                sub_seq_region_list.append(sub_seq_entity)\n",
    "\n",
    "                if entity[\"entity\"] != seq[sub_seq_entity[\"start_idx\"]:sub_seq_entity[\"end_idx\"] + 1]:\n",
    "                    print(\"error\")\n",
    "\n",
    "        new_data.append({\"text\":seq,\"entities\":sub_seq_region_list})\n"
   ],
   "metadata": {
    "collapsed": false,
    "pycharm": {
     "name": "#%%\n"
    }
   }
  },
  {
   "cell_type": "code",
   "execution_count": 71,
   "outputs": [],
   "source": [
    "# check\n",
    "for item in pd.DataFrame(new_data).itertuples():\n",
    "    for entity in item.entities:\n",
    "        if item.text[entity[\"start_idx\"]:entity[\"end_idx\"]+1] != entity[\"entity\"]:\n",
    "            print(\"error\")"
   ],
   "metadata": {
    "collapsed": false,
    "pycharm": {
     "name": "#%%\n"
    }
   }
  },
  {
   "cell_type": "code",
   "execution_count": 72,
   "outputs": [],
   "source": [
    "processed_data = []\n",
    "for item in pd.DataFrame(new_data).itertuples():\n",
    "    row_data_dict = dict()\n",
    "    # insert space between every two chars\n",
    "    row_data_dict[\"text_a\"] = \" \".join(list(\"\".join((item.text.split()))))\n",
    "\n",
    "    # generate sentence label\n",
    "    label_sent = [\"O\"] * (len(item.text))\n",
    "    region_dict = dict()\n",
    "\n",
    "    for entity in item.entities:\n",
    "        start = entity[\"start_idx\"]\n",
    "        end = entity[\"end_idx\"]\n",
    "\n",
    "        if start == end:\n",
    "            label_sent[start] = \"S\"\n",
    "            region_dict[(start, end)] = entity[\"type\"]\n",
    "            continue\n",
    "\n",
    "        if label_sent[start] == \"E\" or label_sent[end] == \"B\":\n",
    "            print(item, \"boundary redandency\")\n",
    "        else:\n",
    "            label_sent[start] = \"B\" if label_sent[start] != \"S\" else \"S\"\n",
    "            label_sent[end] = \"E\" if label_sent[end] != \"S\" else \"S\"\n",
    "\n",
    "            region_dict[(start, end)] = entity[\"type\"]\n",
    "\n",
    "            for ele_idx, elem_label in enumerate(label_sent[start + 1:end]):\n",
    "                if elem_label == \"O\":\n",
    "                    label_sent[ele_idx + start + 1] = \"M\"\n",
    "\n",
    "    row_data_dict[\"bd_label\"] = \" \".join(label_sent)\n",
    "\n",
    "    # generate region label\n",
    "    label_region = []\n",
    "    for start_idx, head in enumerate(label_sent):\n",
    "        if head == \"S\" or head == \"B\":\n",
    "            # single entity\n",
    "            if head == \"S\":\n",
    "                label_region.append(region_dict[(start_idx, start_idx)])\n",
    "\n",
    "            # other entity\n",
    "            for end_idx, tail in enumerate(label_sent[start_idx + 1:]):\n",
    "                if tail == \"S\" or tail == \"E\":\n",
    "                    tail_idx = start_idx + 1 + end_idx\n",
    "                    label = region_dict[(start_idx, tail_idx)] if ((start_idx, tail_idx) in region_dict) else \"O\"\n",
    "                    label_region.append(label)\n",
    "\n",
    "                elif tail == \"O\":\n",
    "                    break\n",
    "\n",
    "    row_data_dict[\"entity_label\"] = \" \".join(label_region)\n",
    "    if len(label_region):\n",
    "        processed_data.append(row_data_dict)"
   ],
   "metadata": {
    "collapsed": false,
    "pycharm": {
     "name": "#%%\n"
    }
   }
  },
  {
   "cell_type": "code",
   "execution_count": 73,
   "outputs": [
    {
     "data": {
      "text/plain": "5248"
     },
     "execution_count": 73,
     "metadata": {},
     "output_type": "execute_result"
    }
   ],
   "source": [
    "len(processed_data)"
   ],
   "metadata": {
    "collapsed": false,
    "pycharm": {
     "name": "#%%\n"
    }
   }
  },
  {
   "cell_type": "code",
   "execution_count": 74,
   "outputs": [],
   "source": [
    "processed_data_df = pd.DataFrame(data=processed_data, columns=[\"text_a\", \"bd_label\", \"entity_label\"])\n",
    "processed_data_df.to_csv(\"dev.tsv\", sep=\"\\t\",index=False)"
   ],
   "metadata": {
    "collapsed": false,
    "pycharm": {
     "name": "#%%\n"
    }
   }
  },
  {
   "cell_type": "code",
   "execution_count": 75,
   "outputs": [
    {
     "data": {
      "text/plain": "                                                 text_a  \\\n0     对 儿 童 S A R S T 细 胞 亚 群 的 研 究 表 明 ， 与 成 人 S A ...   \n1     研 究 证 实 ， 细 胞 减 少 与 肺 内 病 变 程 度 及 肺 内 炎 性 病 变 ...   \n2           因 而 儿 童 肺 部 病 变 较 轻 ， 肺 内 炎 性 病 变 吸 收 较 快 。   \n3                             一 般 有 明 确 S A R S 接 触 史 。   \n4     （ 二 ） 临 床 症 状 、 体 征 与 成 年 人 类 似 ， 起 病 急 ， 主 要 ...   \n...                                                 ...   \n5243  （ 5 ） 心 悸 伴 电 生 理 检 查 时 可 诱 发 持 续 性 室 上 性 心 动 ...   \n5244  3 . 第 二 b 类 （ 1 ） 无 症 状 性 预 激 （ 心 电 图 显 示 W P ...   \n5245  （ 2 ） 室 上 性 心 动 过 速 ， 年 龄 大 于 5 岁 ， R F C A 作 ...   \n5246  （ 3 ） 室 上 性 心 动 过 速 ， 年 龄 小 于 5 岁 （ 包 括 婴 儿 ） ...   \n5247  （ 4 ） 房 内 折 返 性 心 动 过 速 ， 每 年 发 作 1 至 3 次 ， 需 ...   \n\n                                               bd_label         entity_label  \n0     O O O B M M M M M E O O O O O O O O O B M M M ...              bod dis  \n1     O O O O O O O O O O S M M E O O O S M M M M E ...      bod sym bod sym  \n2           O O O O B E M E O O O S M M M M E O O O O O      bod sym bod sym  \n3                             O O O O O B M M E O O O O                  dis  \n4     O O O O O O O O O O O O O O O O O O O O O O O ...  sym sym sym sym sym  \n...                                                 ...                  ...  \n5243  O O O B E O B M M M E O O O O B M M M M M M M ...          sym pro dis  \n5244  O O O O O O O O O O O O O O O O B M E O O O O ...              pro dis  \n5245  O O O B M M M M M E O O O O O O O O B M M E O ...      dis pro dis dis  \n5246  O O O B M M M M M E O O O O O O O O O O O O O ...      dis dis dru dru  \n5247  O O O B M M M M M M M E O O O O O O O O O O O ...                  dis  \n\n[5248 rows x 3 columns]",
      "text/html": "<div>\n<style scoped>\n    .dataframe tbody tr th:only-of-type {\n        vertical-align: middle;\n    }\n\n    .dataframe tbody tr th {\n        vertical-align: top;\n    }\n\n    .dataframe thead th {\n        text-align: right;\n    }\n</style>\n<table border=\"1\" class=\"dataframe\">\n  <thead>\n    <tr style=\"text-align: right;\">\n      <th></th>\n      <th>text_a</th>\n      <th>bd_label</th>\n      <th>entity_label</th>\n    </tr>\n  </thead>\n  <tbody>\n    <tr>\n      <th>0</th>\n      <td>对 儿 童 S A R S T 细 胞 亚 群 的 研 究 表 明 ， 与 成 人 S A ...</td>\n      <td>O O O B M M M M M E O O O O O O O O O B M M M ...</td>\n      <td>bod dis</td>\n    </tr>\n    <tr>\n      <th>1</th>\n      <td>研 究 证 实 ， 细 胞 减 少 与 肺 内 病 变 程 度 及 肺 内 炎 性 病 变 ...</td>\n      <td>O O O O O O O O O O S M M E O O O S M M M M E ...</td>\n      <td>bod sym bod sym</td>\n    </tr>\n    <tr>\n      <th>2</th>\n      <td>因 而 儿 童 肺 部 病 变 较 轻 ， 肺 内 炎 性 病 变 吸 收 较 快 。</td>\n      <td>O O O O B E M E O O O S M M M M E O O O O O</td>\n      <td>bod sym bod sym</td>\n    </tr>\n    <tr>\n      <th>3</th>\n      <td>一 般 有 明 确 S A R S 接 触 史 。</td>\n      <td>O O O O O B M M E O O O O</td>\n      <td>dis</td>\n    </tr>\n    <tr>\n      <th>4</th>\n      <td>（ 二 ） 临 床 症 状 、 体 征 与 成 年 人 类 似 ， 起 病 急 ， 主 要 ...</td>\n      <td>O O O O O O O O O O O O O O O O O O O O O O O ...</td>\n      <td>sym sym sym sym sym</td>\n    </tr>\n    <tr>\n      <th>...</th>\n      <td>...</td>\n      <td>...</td>\n      <td>...</td>\n    </tr>\n    <tr>\n      <th>5243</th>\n      <td>（ 5 ） 心 悸 伴 电 生 理 检 查 时 可 诱 发 持 续 性 室 上 性 心 动 ...</td>\n      <td>O O O B E O B M M M E O O O O B M M M M M M M ...</td>\n      <td>sym pro dis</td>\n    </tr>\n    <tr>\n      <th>5244</th>\n      <td>3 . 第 二 b 类 （ 1 ） 无 症 状 性 预 激 （ 心 电 图 显 示 W P ...</td>\n      <td>O O O O O O O O O O O O O O O O B M E O O O O ...</td>\n      <td>pro dis</td>\n    </tr>\n    <tr>\n      <th>5245</th>\n      <td>（ 2 ） 室 上 性 心 动 过 速 ， 年 龄 大 于 5 岁 ， R F C A 作 ...</td>\n      <td>O O O B M M M M M E O O O O O O O O B M M E O ...</td>\n      <td>dis pro dis dis</td>\n    </tr>\n    <tr>\n      <th>5246</th>\n      <td>（ 3 ） 室 上 性 心 动 过 速 ， 年 龄 小 于 5 岁 （ 包 括 婴 儿 ） ...</td>\n      <td>O O O B M M M M M E O O O O O O O O O O O O O ...</td>\n      <td>dis dis dru dru</td>\n    </tr>\n    <tr>\n      <th>5247</th>\n      <td>（ 4 ） 房 内 折 返 性 心 动 过 速 ， 每 年 发 作 1 至 3 次 ， 需 ...</td>\n      <td>O O O B M M M M M M M E O O O O O O O O O O O ...</td>\n      <td>dis</td>\n    </tr>\n  </tbody>\n</table>\n<p>5248 rows × 3 columns</p>\n</div>"
     },
     "execution_count": 75,
     "metadata": {},
     "output_type": "execute_result"
    }
   ],
   "source": [
    "processed_data_df"
   ],
   "metadata": {
    "collapsed": false,
    "pycharm": {
     "name": "#%%\n"
    }
   }
  },
  {
   "cell_type": "code",
   "execution_count": null,
   "outputs": [],
   "source": [],
   "metadata": {
    "collapsed": false,
    "pycharm": {
     "name": "#%%\n"
    }
   }
  }
 ],
 "metadata": {
  "kernelspec": {
   "display_name": "Python 3",
   "language": "python",
   "name": "python3"
  },
  "language_info": {
   "codemirror_mode": {
    "name": "ipython",
    "version": 2
   },
   "file_extension": ".py",
   "mimetype": "text/x-python",
   "name": "python",
   "nbconvert_exporter": "python",
   "pygments_lexer": "ipython2",
   "version": "2.7.6"
  }
 },
 "nbformat": 4,
 "nbformat_minor": 0
}
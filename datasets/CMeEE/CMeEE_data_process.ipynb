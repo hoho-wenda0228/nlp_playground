{
 "cells": [
  {
   "cell_type": "code",
   "execution_count": 1,
   "metadata": {
    "collapsed": true
   },
   "outputs": [],
   "source": [
    "import pandas as pd"
   ]
  },
  {
   "cell_type": "code",
   "execution_count": 45,
   "outputs": [],
   "source": [
    "data_df = pd.read_json(\"CMeEE_train.json\")"
   ],
   "metadata": {
    "collapsed": false,
    "pycharm": {
     "name": "#%%\n"
    }
   }
  },
  {
   "cell_type": "code",
   "execution_count": 46,
   "outputs": [],
   "source": [
    "dev_data_df = pd.read_json(\"CMeEE_dev.json\")"
   ],
   "metadata": {
    "collapsed": false,
    "pycharm": {
     "name": "#%%\n"
    }
   }
  },
  {
   "cell_type": "code",
   "execution_count": 47,
   "outputs": [
    {
     "data": {
      "text/plain": "(20000, 2)"
     },
     "execution_count": 47,
     "metadata": {},
     "output_type": "execute_result"
    }
   ],
   "source": [
    "data_df = data_df.append(dev_data_df, ignore_index=True)\n",
    "data_df.shape"
   ],
   "metadata": {
    "collapsed": false,
    "pycharm": {
     "name": "#%%\n"
    }
   }
  },
  {
   "cell_type": "code",
   "execution_count": 3,
   "outputs": [],
   "source": [
    "data_df = pd.read_json(\"CMeEE_test.json\")"
   ],
   "metadata": {
    "collapsed": false,
    "pycharm": {
     "name": "#%%\n"
    }
   }
  },
  {
   "cell_type": "code",
   "execution_count": 48,
   "outputs": [],
   "source": [
    "def _split_long_sent(query_data: list, max_seq_len=128, ratio_slide=1):\n",
    "    \"\"\"\n",
    "    This function is for split the sentence which length over 128\n",
    "    :param query_data: list of string\n",
    "    :return: processed_query_data: list of string, length of each string smaller than 128\n",
    "             concate_data_dict: map of raw text to splitted data\n",
    "    \"\"\"\n",
    "    processed_query_data = []\n",
    "    processed_seq_idx = []\n",
    "\n",
    "    query_len = len(query_data)\n",
    "    concate_data_dict = dict(zip(range(query_len), [[] for _ in range(query_len)]))\n",
    "\n",
    "    for idx_sent, sent in enumerate(query_data):\n",
    "        sent_len = len(str(sent))\n",
    "        if sent_len > max_seq_len:  # parse the sentence if length larger than max len\n",
    "            split_pos = 0\n",
    "            while sent_len - split_pos > max_seq_len:  # if the rest part shorter than max seq_len, break\n",
    "                is_split = False  # flag, if sentence does not contain any split symbol will be directly appended\n",
    "                cur_head = split_pos + max_seq_len - 1\n",
    "\n",
    "                alter_split_pos = None\n",
    "\n",
    "                for idx, char in enumerate(sent[cur_head:split_pos:-1]):\n",
    "                    if char in [\",\", \".\", \";\", \"，\", \"。\", \"；\"]:\n",
    "                        processed_query_data.append(sent[split_pos:cur_head - idx + 1])\n",
    "                        processed_seq_idx.append([split_pos, cur_head - idx])\n",
    "\n",
    "                        split_pos += max_seq_len - idx\n",
    "                        concate_data_dict[idx_sent].append(len(processed_query_data) - 1)\n",
    "                        is_split = True\n",
    "                        break\n",
    "\n",
    "                    if (not alter_split_pos) and char in [\")\", \"）\"]:\n",
    "                        alter_split_pos = idx\n",
    "\n",
    "                if not is_split:  # full sent added into list\n",
    "\n",
    "                    if alter_split_pos is not None:\n",
    "                        processed_query_data.append(sent[split_pos:cur_head - alter_split_pos + 1])\n",
    "                        processed_seq_idx.append([split_pos, cur_head - alter_split_pos])\n",
    "\n",
    "                        split_pos += max_seq_len - alter_split_pos\n",
    "                        concate_data_dict[idx_sent].append(len(processed_query_data) - 1)\n",
    "                    else:\n",
    "                        print(query_data)\n",
    "                        processed_query_data.append(sent[split_pos:split_pos + max_seq_len])\n",
    "                        processed_seq_idx.append([split_pos, split_pos + max_seq_len - 1])\n",
    "\n",
    "                        concate_data_dict[idx_sent].append(len(processed_query_data) - 1)\n",
    "                        split_pos += max_seq_len\n",
    "\n",
    "                slide_pos = int(split_pos - (1 - ratio_slide) * len(processed_query_data[-1]))\n",
    "                for idx, char in enumerate(sent[slide_pos:split_pos]):\n",
    "                    if char in [\",\", \".\", \";\", \"，\", \"。\", \"；\", \")\", \"）\"]:\n",
    "                        split_pos = idx + slide_pos + 1\n",
    "                        break\n",
    "\n",
    "            processed_query_data.append(sent[split_pos:])\n",
    "            processed_seq_idx.append([split_pos, sent_len - 1])\n",
    "\n",
    "        else:\n",
    "            processed_query_data.append(sent)\n",
    "            processed_seq_idx.append([0, sent_len - 1])\n",
    "\n",
    "        concate_data_dict[idx_sent].append(len(processed_query_data) - 1)  # record the last span or short sentence\n",
    "\n",
    "    return processed_query_data, concate_data_dict, processed_seq_idx"
   ],
   "metadata": {
    "collapsed": false,
    "pycharm": {
     "name": "#%%\n"
    }
   }
  },
  {
   "cell_type": "code",
   "execution_count": 49,
   "outputs": [
    {
     "name": "stdout",
     "output_type": "stream",
     "text": [
      "['相对来说比较常用的手术方法有尿道口前移龟头成形术（meata尿道口前移龟头成形术ndgmeataladvancementandglanuloplastyincorporatedprocedure或FMAGPIFlapMathieu，Filp-Flap尿道成形术la加盖岛状皮瓣尿道成形术成形onlayislandflap尿道成形术皮内板横行岛状皮瓣尿道成形术包皮内板横行岛状皮瓣尿道成形术十年Duckett术多的在无阴茎下弯的尿道下裂中应用尿道板纵切卷管尿道成形术（也尿道板纵切卷管尿道成形术。']\n",
      "['参考文献1.陈清棠.临床神经病学.北京科学技术出版社，2000：12.李庆有，等.肝豆状核变性的脑MRI与临床表现的相关分析.中华神经科杂志，1997，30（6）：367-3673.吴斌.小儿肝豆状核变性的诊治新进展.国外医学儿科学分册，1997，24（4）：202-2024.杨任民.肝豆状核变性的治疗.中国实用儿科杂志，2000，15（2）：79-805.刘晓青，张雅芳，刘孜孜等.肝豆状核变性基因类型与临床表型关系研究.中华儿科杂志，2003，41（1）：35-356.LoudianosG，GitlinJD.Wilson’sdisease.SeminLiverDis，2000，20（3）：353-3537.RichardsRJ，HammittJK.Findingtheoptimalmultiple-teststrategyusingamethodanalogoustologisticregression：thediagnosisofhepatolenticulardegeneration（Wilson’sdisease）.MedDecisMaking，1996，16（4）：367-3678.RobertsEA，CoxDW.Wilsondisease.BaillieresClinGastroenterol，1998，12（2）：237-2379.SmoloarekC，StremmelW.TherapyofWilsondisease.ZGastroenterol，1999，37（4）：293-29310.中华医学会神经病学分会帕金森病及运动障碍学组.中华医学会神经病学分会神经遗传病学组.肝豆状核变性的诊断与治疗指南《中华神经科杂志》2008，41（8）：566-566']\n",
      "['参考文献1.孙锟，陈树宝，周爱卿，等.二维超声技术检测右心室容量.中华医学杂志，1993；7：353-3532.孙锟，陈树宝，江海，等.婴儿心脏三维超声信息采集及重建的方法学研究.中国医学影像技术，1999；15（10）：775-7753.周爱卿.心导管术-先天性心脏病的诊断与治疗.济南：山东科技出版社，19974.AllenHD，GutgesellHP，ClarkEB，DriscollDJ.MossandAdam’sheartdiseaseininfants，children，andadolescentsincludingthefetusandyoungadult（Sixthedition）.Philadelphia：LippincottWilliams＆wilkins，2001.162-1625.BalajiS，LauY，CaseC，etal.VentriculartachycardiaintetralogyofFallot.AmJCardiol，1997.80：1606.BudingerTF，BersonA，McVeighER，etal.CardiacMRimaging：reportofaworkinggroupsponsoredbytheNationalHeart，LungandBloodInstitute.Radiology，1998，208：573-5767.FischC.Evolutionoftheclinicalelectrocardiogram.JAmCollCardiol，1989，14：11278.KuglerJD，DanfordDA，DealBJ，etal.Radiofrequencycatheterablationfortachyarrhythmiasinchildrenandadolescents.NEnglJMed，1994，330：1481-14819.NASPEExpertConsensusConference：RadiofrequencyCatheterAblationinChildrenWithandWithoutCongenitalHeartDisease.ReportoftheWritingCommittee.PACE，2002，25（6）：1000-100010.PihkalaJ，NykanenD，FreedomRM，etal.Interventionalcardiaccatheterization.PediatrClinNorthAm，1999，46（2）：441-46011.ReichJD，AuldD，HulseE，etal.ThePediatricRadiofrequencyAblationRegistry’sexperiencewithEbstein’sanomaly.PediatricElectrophysiologySociety.JCardiovascElectrophysiol，1998，9：1370-137012.SchelagBJ，LauSH，HelfantRH，etal.CathetertechniquesforrecordingHisbundleactivityinman.Circulation，1969，39：1313.VanHareGF.Indicationsforradiofrequencyablationinthepediatricpopulation.JCardiovascElectrophysiol，1997，8：952-95214.WashingtonRL，BrickerJT，AlperBS，etal.Guidelinesforexercisetestinginthepediatricagegroup：Fromthecommitteeonatherosclerosisandhypertensioninchildrencounciloncardiovasculardiseaseintheyoung，theAmericanHeartAssociation.Circulation，1994，90：216615.ZipesDP，DiMarcoJP，GillettePC，etal.ACC/AHATaskForcereport.Guidelinesforclinicalintracardiacelectrophysiologicalandcatheterablationprocedures.Circulation，1995，92：673']\n",
      "['参考文献1.ZulianF，WooP，AthreyaBH，etal.ThePediatricRheumatologyEuropeanSociety/AmericanCollegeofRheumatology/EuropeanLeagueagainstRheumatismprovisionalclassificationcriteriaforjuvenilesystemicsclerosis［J］.ArthritisRheum，2007，57（2）：203-2032.OchsHD，SmithCIE，PuckJM.PrimaryImmunodeficiencyDiseases：AMolecularandApproach.OxfordUniversityPress.NewYork，Oxford，19993.韩玉昆等.儿科实用诊断治疗学.合肥：安徽科技出版社，19994.杨锡强等.儿童免疫学.北京：人民卫生出版社，20015.StiehmER.ImmunologicDisorderinInfantsandChildren.3<sup>rd</sup>ed.W.B.SaundersCo，1996']\n",
      "['参考文献1.蒋明.风湿病学.北京：科学出版社，19982.李永柏，杨锡强.自身抗体测定及其临床意义.中国实用儿科杂志，2000，15（11）：691-6933.滕庆，何晓唬.隐匿性类风湿因子与幼年类风湿关节炎.实用儿科临床杂志，1997，12：2704.BehrmanRE，KliegmanRM，JensonHB.NelsonTextbookofPediatrics.16thed.Philadelphia：W.B.SaunersCo，20005.周厚清，董敏，马路.ANA、抗dsDNA和ENA多肽抗体与自身免疫性疾病的关系.中国卫生检验杂志，2008：18（12）：2675-26756.李永柏.自身抗体检测及其临床应用.实用儿科临床杂志，2005，20（11）：1062-10627.FerucciED，MajkaDS，ParrishLA，etal.AntibodiesagainstcycliccitrullinatedpeptideareassociatedwithHLA-DR4insimplexandmultiplexpolyarticular-onsetjuvenilerheumatoidarthritis.ArthritisRheum，2005Jan，52（1）：239-239']\n",
      "['参考文献1.罗学荣，苏林雁，万国斌，等.品行障碍儿童家庭环境的logistic回归分析.中国心理卫生杂志，1994，（8）：2612.沈晓明.儿童铅中毒.北京：人民卫生出版社，1996；53-533.陶国泰.儿童少年精神医学.南京：江苏科学技术出版社，1999：438-4424.叶广俊.现代儿童少年卫生学.北京：人民卫生出版社，1999：332-3325.AmericanAcademyofPediatrics.Committeeonpsychosocialaspectsofchildandfamilyhealth：thepediatrician’sroleinhelpingchildrenandfamiliesdealwithseparationanddivorce.Pediatrics，1994，（1）：1196.BischofGP，StithSM，WhitneyML.Familyenvironmentsofadolescent，sexoffendersandotherjuveniledelinquents.Adolescence，1995，（117）：1577.BrentDA.Depressionandsuicideinchildrenandadolescents.PediatrRev，1993，（10）：3808.DuRrantRH，GettsA，CadenheadC，etal.Exposuretoviolenceandvictimizationanddepression，hopelessnessandpurposeinlifeamongadolescentslivinginandaroundpublichousing.JDevelBehavPediatr，1995，（4）：2339.HofmannAD，GreydanusDE.Adolescentmedicine.3<sup>rd</sup>ed.Appleton＆Lange：Stanford，1997：835-83510.HindelangRL，DwyerWO.Adolescentrisk-takingbehavior：Areviewoftheroleofparentalinvolvement.CurrentproblemsinPediatrics，2001，（3）：6311.SmetanaJG.Parentingstylesandconceptionsofparentalauthorityduringadolescence.ChildDevel，1995，（2）：29912.WenderEH.Attention-deficithyperactivitydisordersinadolescence.JDevelBehavPediatr，1995，（3）：192']\n",
      "[\"参考文献1.BillmireD，VinocurC，RescorlaF，etal.Malignantmediastinalgermcelltumors：anintergroupstudy.JPediatrSurg，2001，36（1）：18-182.MannJR，RaafatF，RobinsonK，etal.TheUnitedKingdomChildren'sCancerStudyGroup'ssecondgermcelltumorstudy：carboplatin，etoposide，andbleomycinareeffectivetreatmentforchildrenwithmalignantextracranialgermcelltumors，withacceptabletoxicity.JClinOncol，2000，18（22）：3809-38093.PhilipAPizzo，DavidGPoplock.PrincipleandPracticeofPediatricOncology.4rded.Philadelphia.NewYork：LWW.com，2002.1091-10914.RescorlaF，BillmireD，StolarC，etal.Theeffectofcisplatindoseandsurgicalresectioninchildrenwithmalignantgermcelltumorsatthesacrococcygealregion：apediatricintergrouptrial（POG9049/CCG8882）.JPediatrSurg，2001，36（1）：12-125.VukyJ，BainsM，BacikJ，etal.Roleofpostchemotherapyadjunctivesurgeryinthemanagementofpatientswithnonseminomaarisingfromthemediastinum.JClinOncol，2001，19（3）：682-688\"]\n",
      "['参考文献1.李正，王慧贞，吉士俊.先天畸形学.北京：人民卫生出版社，20002.王忠诚.神经外科学.武汉：湖北科学技术出版社，19983.李世绰，程学铭，王文志，等.神经系统疾病流行病学.北京：人民卫生出版社，20004.肖坤则，张芝燕，高健，等.中国神经管缺陷的流行病学.中华医学杂志，1989，69（4）：189-1895.陈晓玲，戴晓瑛，刘建涛，等.叶酸与神经管畸形.河南预防医学杂志，1999，10（5）：326-3266.BarberRC，LammerEJ，ShawGM，etal.Theroleoffolatetransportandmetabolisminneuraltubedefectrisk.MolGenetMetab，1999，66（1）：1-17.AntonyAC，HansenDK.Hypothesis：folate-responsiveneuraltubedefectsandneurocristopathies.Teratology，2000，62（1）：42-428.McCombJG.Spinalandcranialneuraltubedefects.SeminPediatrNeurol，1997，4（3）：156-1569.CsabayL，SzaboI，PappC，etal.Centralnervoussystemanomalies.AnnNYAcadSci，1998，847：21-4510.CzeizelAE.Primarypreventionofneural-tubedefectsandsomeothermajorcongenitalabnormalities：recommendationsfortheappropriateuseoffolicacidduringpregnancy.PaediatrDrugs，2000，2（6）：437-44911.EskesTK.Openorclosed？']\n",
      "['参考文献1.沈晓明.临床儿科学.北京：人民卫生出版社，2005年：225-2252.岳少杰.新生儿细菌性脑膜炎诊断中的几个问题.中国实用儿科杂志，2011，26（1）：11-113.余佳.化脓性脑膜炎的临床研究进展.儿科药学杂志，2006，12（3）：61-634.王艺，王传清，王晓红.细菌性脑膜炎266例病原学与耐药性分析.实用儿科临床杂志，2006（06）：355-3555.ChaudhuriA，P.M.Martin，P.G.E.Kennedy，etal.EFNSguidelineonthemanagementofcommunity-acquiredbacterialmeningitis：reportofEFNSTaskForceonacutebacterialmeningitisinolderchildrenandadults.EuropeanJournalofNeurology，2008，15：649-6596.ChaudhuriA.Adjuvantdexamethasoneuseinacutebacterialmeningitis.LancetNeurology，2004，3：54-617.TunkelAIR，HartmanBJ，KaplanSL，etal.PracticeguidelinesfortheManagementofBacterialMeningitis.ClinicalInfectiousDiseases，2004，39：1267-1267']\n",
      "['参考文献1.许春娣，奚容平，陈舜年，等.幽门螺杆菌感染的患儿人类白细胞抗原DQA1的免疫遗传学分析.中华儿科杂志，2000，38：746-7462.许春娣，陈舜年，徐家裕，等.儿童幽门螺杆菌感染的流行病学研究.中华儿科杂志，1999，37：318-3183.许春娣，周建元，薛英，等.无症状儿童人群中幽门螺杆菌感染的血清流行病学.中华儿科杂志，1999，37：412-4144.许春娣，苏林，陈舜年，等.幽门螺杆菌感染与小儿胃十二指肠疾病的关系.上海医学，1999，22：466-4685.许春娣，季月华，陈舜年，等.胃幽门螺杆菌感染患儿细胞毒素相关基因A和细胞空泡毒素A与十二指肠疾病.中华儿科杂志，1999，37：552-5526.中华儿科杂志编辑委员会.中华医学会儿科学会感染消化组.小儿慢性胃炎.消化性溃疡诊断治疗推荐方案.中华儿科杂志，2000，38：201-2017.BehrensR，LangT，KellerKM，etal.DualversustripletherapyofHelicobacterpyloriinfection：resultsofamulticentretrial.ArchDisChild，1999，81：688.Ellc，SchoernerC，SolbachW，etal.TheAMORstudy：arandomizeed，doubleblindedtrialofomeprazoleversusranitidinetogetherwithamoxycillinandmetronidazoleforeradicationofHelicobacterpylori.EurJGastroentrolHepatol，2001，13：685-6919.LamSK，TalleyNJ.Reportofthe1997AsiaPacIFicConsensusConferenceonthemanagementofHelicobacterpyloriinfection.JGastroenterolHepatol.1998，13：110.MoshkowitzM，ReIFS，BrillS，etal.Oneweektripletherapywithomeprazole，clarithromycin，andnitroimidazoleforHelicobacterpyloriinfectioninchildrenandadolescents.Pediatrics，1998，102：e1411.PanJJ，VanderHulstRWM，FellerM，etal.EquallyhighprevalenceofinfectionwithCagApositiveHelicobacterpyloriinChinesepatientwithpepticulcerdiseaseandthosewithchronicgastritisassociateddyspepsia.JClinMicrobiol，1997，35：1344-134412.ShashidharH，PetersJ，LinCH，etal.AprospectivetrialofLansoprazoletripletherapyforpediatricHelicobacterpyloriinfection.JPediatricGastroenterolNutr，2000，30：27613.ShamalyH，BerkowitzD，RosenthalE，etal.EfficacyofbismuthbasedtripletherapyinchildrenwithabdominalpainandHelicobacterpylorigastritis.JPediatrGastroenterolNutr，2000，30：19814.TheEuropeanHelicobacterpyloriStudyGroup.CurrentEuropeanconceptsinthemanagementofHelicobacterpyloriinfection.TheMaastrichtConsensusReportGut，1997，41：815.VandenplasY，bleckerU.Helicobacterpyloriinfectioninchildren，ActaPediatr，1998，87：1105-110516.WarburtonVJ，EverettS，MapastoneNP，etal.ClinicalandhistologicalassociationsofcagAandvacAgenotypesinHelicobacterpylorigastritis，JClinPathol，1998，51：55-6117.中华医学会消化病学会幽门螺杆菌科研协作组.第三次全国幽门螺杆菌感染若干问题共识报告（2007.庐山）.现代消化及介入诊所，2008，13（1）：73-73']\n"
     ]
    }
   ],
   "source": [
    "new_data = list()\n",
    "for item in data_df.itertuples():\n",
    "    region_dict = dict()\n",
    "    entity_list = list()\n",
    "\n",
    "    for entity in item.entities:\n",
    "        start = entity[\"start_idx\"]\n",
    "        end = entity[\"end_idx\"]\n",
    "        region_dict[(start, end)] = {\"type\": entity[\"type\"], \"entity\": entity[\"entity\"]}\n",
    "\n",
    "    seq_list, seq_dict, seq_idx_list = _split_long_sent([item.text], ratio_slide=0.5)\n",
    "\n",
    "    for seq, seq_idx in zip(seq_list, seq_idx_list):\n",
    "        seq_len = len(seq)\n",
    "        sub_seq_region_list = list()\n",
    "        for (start, end), entity in region_dict.items():\n",
    "            if end <= seq_idx[1] and start >= seq_idx[0]:\n",
    "                sub_seq_entity = {\"start_idx\": start - seq_idx[0], \"end_idx\": end - seq_idx[0], \"type\": entity[\"type\"],\n",
    "                                  \"entity\": entity[\"entity\"]}\n",
    "                sub_seq_region_list.append(sub_seq_entity)\n",
    "\n",
    "                if entity[\"entity\"] != seq[sub_seq_entity[\"start_idx\"]:sub_seq_entity[\"end_idx\"] + 1]:\n",
    "                    print(\"error\")\n",
    "\n",
    "        new_data.append({\"text\": seq, \"entities\": sub_seq_region_list})\n"
   ],
   "metadata": {
    "collapsed": false,
    "pycharm": {
     "name": "#%%\n"
    }
   }
  },
  {
   "cell_type": "code",
   "execution_count": 50,
   "outputs": [],
   "source": [
    "# check\n",
    "for item in pd.DataFrame(new_data).itertuples():\n",
    "    for entity in item.entities:\n",
    "        if item.text[entity[\"start_idx\"]:entity[\"end_idx\"] + 1] != entity[\"entity\"]:\n",
    "            print(\"error\")"
   ],
   "metadata": {
    "collapsed": false,
    "pycharm": {
     "name": "#%%\n"
    }
   }
  },
  {
   "cell_type": "code",
   "execution_count": 51,
   "outputs": [
    {
     "name": "stdout",
     "output_type": "stream",
     "text": [
      "Pandas(Index=10297, text='未用呼吸机的患儿可表现为三凹征，腹部肝脏肿大。', entities=[{'start_idx': 2, 'end_idx': 4, 'type': 'equ', 'entity': '呼吸机'}, {'start_idx': 12, 'end_idx': 14, 'type': 'dis', 'entity': '三凹征'}, {'start_idx': 16, 'end_idx': 16, 'type': 'bod', 'entity': '腹'}, {'start_idx': 14, 'end_idx': 17, 'type': 'sym', 'entity': '征，腹部'}]) boundary redandency\n"
     ]
    }
   ],
   "source": [
    "processed_data = []\n",
    "for item in pd.DataFrame(new_data).itertuples():\n",
    "    row_data_dict = dict()\n",
    "    # insert space between every two chars\n",
    "    row_data_dict[\"text_a\"] = \" \".join(list(\"\".join((item.text.split()))))\n",
    "\n",
    "    # generate sentence label\n",
    "    label_sent = [\"O\"] * (len(item.text))\n",
    "    region_dict = dict()\n",
    "\n",
    "    for entity in item.entities:\n",
    "        start = entity[\"start_idx\"]\n",
    "        end = entity[\"end_idx\"]\n",
    "\n",
    "        if start == end:\n",
    "            label_sent[start] = \"S\"\n",
    "            region_dict[(start, end)] = entity[\"type\"]\n",
    "            continue\n",
    "\n",
    "        if label_sent[start] == \"E\" or label_sent[end] == \"B\":\n",
    "            print(item, \"boundary redandency\")\n",
    "        else:\n",
    "            label_sent[start] = \"B\" if label_sent[start] != \"S\" else \"S\"\n",
    "            label_sent[end] = \"E\" if label_sent[end] != \"S\" else \"S\"\n",
    "\n",
    "            region_dict[(start, end)] = entity[\"type\"]\n",
    "\n",
    "            for ele_idx, elem_label in enumerate(label_sent[start + 1:end]):\n",
    "                if elem_label == \"O\":\n",
    "                    label_sent[ele_idx + start + 1] = \"M\"\n",
    "\n",
    "    row_data_dict[\"bd_label\"] = \" \".join(label_sent)\n",
    "\n",
    "    # generate region label\n",
    "    label_region = []\n",
    "    for start_idx, head in enumerate(label_sent):\n",
    "        if head == \"S\" or head == \"B\":\n",
    "            # single entity\n",
    "            if head == \"S\":\n",
    "                label_region.append(region_dict[(start_idx, start_idx)])\n",
    "\n",
    "            # other entity\n",
    "            for end_idx, tail in enumerate(label_sent[start_idx + 1:]):\n",
    "                if tail == \"S\" or tail == \"E\":\n",
    "                    tail_idx = start_idx + 1 + end_idx\n",
    "                    label = region_dict[(start_idx, tail_idx)] if ((start_idx, tail_idx) in region_dict) else \"O\"\n",
    "                    label_region.append(label)\n",
    "\n",
    "                elif tail == \"O\":\n",
    "                    break\n",
    "\n",
    "    row_data_dict[\"entity_label\"] = \" \".join(label_region)\n",
    "    if len(label_region):\n",
    "        processed_data.append(row_data_dict)"
   ],
   "metadata": {
    "collapsed": false,
    "pycharm": {
     "name": "#%%\n"
    }
   }
  },
  {
   "cell_type": "code",
   "execution_count": 52,
   "outputs": [
    {
     "data": {
      "text/plain": "20900"
     },
     "execution_count": 52,
     "metadata": {},
     "output_type": "execute_result"
    }
   ],
   "source": [
    "len(processed_data)"
   ],
   "metadata": {
    "collapsed": false,
    "pycharm": {
     "name": "#%%\n"
    }
   }
  },
  {
   "cell_type": "code",
   "execution_count": 53,
   "outputs": [],
   "source": [
    "processed_data_df = pd.DataFrame(data=processed_data, columns=[\"text_a\", \"bd_label\", \"entity_label\"])"
   ],
   "metadata": {
    "collapsed": false,
    "pycharm": {
     "name": "#%%\n"
    }
   }
  },
  {
   "cell_type": "code",
   "execution_count": 56,
   "outputs": [],
   "source": [
    "from sklearn.model_selection import train_test_split"
   ],
   "metadata": {
    "collapsed": false,
    "pycharm": {
     "name": "#%%\n"
    }
   }
  },
  {
   "cell_type": "code",
   "execution_count": 64,
   "outputs": [],
   "source": [
    "train, test = train_test_split(processed_data_df, test_size=0.4)"
   ],
   "metadata": {
    "collapsed": false,
    "pycharm": {
     "name": "#%%\n"
    }
   }
  },
  {
   "cell_type": "code",
   "execution_count": 65,
   "outputs": [
    {
     "data": {
      "text/plain": "(12540, 3)"
     },
     "execution_count": 65,
     "metadata": {},
     "output_type": "execute_result"
    }
   ],
   "source": [
    "train.shape"
   ],
   "metadata": {
    "collapsed": false,
    "pycharm": {
     "name": "#%%\n"
    }
   }
  },
  {
   "cell_type": "code",
   "execution_count": 67,
   "outputs": [],
   "source": [
    "dev, test = train_test_split(test, test_size=0.5)"
   ],
   "metadata": {
    "collapsed": false,
    "pycharm": {
     "name": "#%%\n"
    }
   }
  },
  {
   "cell_type": "code",
   "execution_count": 69,
   "outputs": [
    {
     "name": "stdout",
     "output_type": "stream",
     "text": [
      "(4180, 3) (4180, 3)\n"
     ]
    }
   ],
   "source": [
    "print(test.shape,dev.shape)"
   ],
   "metadata": {
    "collapsed": false,
    "pycharm": {
     "name": "#%%\n"
    }
   }
  },
  {
   "cell_type": "code",
   "execution_count": 70,
   "outputs": [],
   "source": [
    "train.to_csv(\"train.tsv\", sep=\"\\t\", index=False)\n",
    "dev.to_csv(\"dev.tsv\", sep=\"\\t\", index=False)\n",
    "test.to_csv(\"test.tsv\", sep=\"\\t\", index=False)"
   ],
   "metadata": {
    "collapsed": false,
    "pycharm": {
     "name": "#%%\n"
    }
   }
  },
  {
   "cell_type": "code",
   "execution_count": 14,
   "outputs": [
    {
     "data": {
      "text/plain": "(15652, 3)"
     },
     "execution_count": 14,
     "metadata": {},
     "output_type": "execute_result"
    }
   ],
   "source": [
    "processed_data_df.shape"
   ],
   "metadata": {
    "collapsed": false,
    "pycharm": {
     "name": "#%%\n"
    }
   }
  },
  {
   "cell_type": "code",
   "execution_count": 21,
   "outputs": [],
   "source": [
    "processed_data_df.sample(32).to_csv(\"train.tsv\", sep=\"\\t\", index=False)"
   ],
   "metadata": {
    "collapsed": false,
    "pycharm": {
     "name": "#%%\n"
    }
   }
  },
  {
   "cell_type": "code",
   "execution_count": 38,
   "outputs": [
    {
     "data": {
      "text/plain": "5217.333333333333"
     },
     "execution_count": 38,
     "metadata": {},
     "output_type": "execute_result"
    }
   ],
   "source": [
    "15652 / 3"
   ],
   "metadata": {
    "collapsed": false,
    "pycharm": {
     "name": "#%%\n"
    }
   }
  },
  {
   "cell_type": "code",
   "execution_count": null,
   "outputs": [],
   "source": [],
   "metadata": {
    "collapsed": false,
    "pycharm": {
     "name": "#%%\n"
    }
   }
  },
  {
   "cell_type": "code",
   "execution_count": null,
   "outputs": [],
   "source": [],
   "metadata": {
    "collapsed": false,
    "pycharm": {
     "name": "#%%\n"
    }
   }
  }
 ],
 "metadata": {
  "kernelspec": {
   "display_name": "Python 3",
   "language": "python",
   "name": "python3"
  },
  "language_info": {
   "codemirror_mode": {
    "name": "ipython",
    "version": 2
   },
   "file_extension": ".py",
   "mimetype": "text/x-python",
   "name": "python",
   "nbconvert_exporter": "python",
   "pygments_lexer": "ipython2",
   "version": "2.7.6"
  }
 },
 "nbformat": 4,
 "nbformat_minor": 0
}